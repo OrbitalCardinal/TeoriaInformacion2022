{
 "cells": [
  {
   "cell_type": "code",
   "execution_count": 1,
   "id": "e8f2e01c-8e57-438b-8c88-5a4796fa0134",
   "metadata": {
    "id": "e8f2e01c-8e57-438b-8c88-5a4796fa0134"
   },
   "outputs": [],
   "source": [
    "import threading\n",
    "import time\n",
    "import os"
   ]
  },
  {
   "cell_type": "code",
   "execution_count": 3,
   "id": "b49f9108-fffd-4f46-88b9-4d0b56372c5d",
   "metadata": {
    "id": "b49f9108-fffd-4f46-88b9-4d0b56372c5d"
   },
   "outputs": [],
   "source": [
    "def encodelzw(startindex, endindex, rank):\n",
    "    global DICTIONARY_SIZE\n",
    "    string = ''\n",
    "    compressed_data = []\n",
    "    data = DATA[startindex:endindex+1]\n",
    "    print('|' * 10, f'HILO {rank} -> CODIFICANDO {data}')\n",
    "    for symbol in data:\n",
    "        string_plus_symbol = string + symbol\n",
    "        if string_plus_symbol in DICTIONARY:\n",
    "            string = string_plus_symbol\n",
    "        else:\n",
    "            compressed_data.append(DICTIONARY[string])\n",
    "            if len(DICTIONARY) <= MAXIMUM_SIZE:\n",
    "                DICTIONARY[string_plus_symbol] = DICTIONARY_SIZE\n",
    "                DICTIONARY_SIZE += 1\n",
    "            string = symbol\n",
    "    if string in DICTIONARY:\n",
    "        compressed_data.append(DICTIONARY[string])\n",
    "    print('|' * 10, f'RESULTADO DE HILO {rank} -> {compressed_data}')\n",
    "    RESULT[rank] = compressed_data"
   ]
  },
  {
   "cell_type": "code",
   "execution_count": 4,
   "id": "0756f697-2b52-4b9e-ad18-05bbb040a286",
   "metadata": {
    "id": "0756f697-2b52-4b9e-ad18-05bbb040a286"
   },
   "outputs": [],
   "source": [
    "def format_compressed_data(compressed_data):\n",
    "    output_string = ''\n",
    "    for i in range(len(compressed_data)):\n",
    "        rank = compressed_data[i]\n",
    "        for j in range(len(compressed_data[i])):\n",
    "            code = rank[j]\n",
    "            if j < len(compressed_data[i]) - 1:\n",
    "                output_string += f'{code},'\n",
    "            else:\n",
    "                output_string += str(code)\n",
    "        if i < len(compressed_data) - 1:\n",
    "            output_string += '\\n'\n",
    "    return output_string"
   ]
  },
  {
   "cell_type": "code",
   "execution_count": 6,
   "id": "f32add90-766d-459b-8e4e-4d9285ddc5cc",
   "metadata": {
    "colab": {
     "base_uri": "https://localhost:8080/"
    },
    "id": "f32add90-766d-459b-8e4e-4d9285ddc5cc",
    "outputId": "c1240975-54ea-4347-9f22-cf065405b616"
   },
   "outputs": [
    {
     "name": "stdout",
     "output_type": "stream",
     "text": [
      "~~~~~~~~~~ INICIALIZANDO DICCIONARIO CON 256 CARACTERES ASCII\n",
      "~~~~~~~~~~ CODIFICANDO TROZOS DEL STRING EN CADA HILO\n",
      "|||||||||| HILO 0 -> CODIFICANDO ththega\n",
      "|||||||||| RESULTADO DE HILO 0 -> [116, 104, 256, 101, 103, 97]\n",
      "|||||||||| HILO 1 -> CODIFICANDO meinthe\n",
      "|||||||||| RESULTADO DE HILO 1 -> [109, 101, 105, 110, 258]\n",
      "|||||||||| HILO 2 -> CODIFICANDO middleo\n",
      "|||||||||| RESULTADO DE HILO 2 -> [109, 105, 100, 100, 108, 101, 111]\n",
      "|||||||||| HILO 3 -> CODIFICANDO fthenight\n",
      "|||||||||| RESULTADO DE HILO 3 -> [102, 258, 110, 105, 103, 257]\n",
      "========== RESULTADO DE LA CODIFICACION: [[116, 104, 256, 101, 103, 97], [109, 101, 105, 110, 258], [109, 105, 100, 100, 108, 101, 111], [102, 258, 110, 105, 103, 257]]\n",
      "~~~~~~~~~~ TIEMPO DE EJECUCION:  36120.0   Mili-segundos\n",
      "~~~~~~~~~~ GUARDANDO STRING CODIFICADO\n",
      "~~~~~~~~~~ TAMAÑO DEL ARCHIVO CODIFICADO:  94 Bytes\n"
     ]
    }
   ],
   "source": [
    "# GLOBAL\n",
    "start_time = time.time()\n",
    "BITS = 9\n",
    "\n",
    "# LEER ARCHIVO\n",
    "file = open('data.txt', 'r')\n",
    "DATA = file.read()\n",
    "# DICCIONARIO SE INICIALIZA CON 256 CARACTERES ASCII\n",
    "DICTIONARY_SIZE = pow(2,int(BITS-1))\n",
    "print('~' * 10, f'INICIALIZANDO DICCIONARIO CON {DICTIONARY_SIZE} CARACTERES ASCII')\n",
    "#DICTIONARY_SIZE = 65536\n",
    "DICTIONARY = {chr(i): i for i in range(DICTIONARY_SIZE)}  \n",
    "# CON 9 BITS SE PUEDE TENER UN DICCIONARIO DE HASTA 512 ESPACIOS\n",
    "\n",
    "MAXIMUM_SIZE = pow(2,int(BITS))\n",
    "\n",
    "# PARALELIZACION\n",
    "P = 4  # NUMERO DE HILOS UTILIZADOS\n",
    "offset = len(DATA) // P  # CARACTER EXTRA\n",
    "RESULT = [[] for p in range(P)]  # LISTA DE RESULTADOS DE CADA HILO (BIDIMENSIONAL)\n",
    "\n",
    "print('~' * 10, 'CODIFICANDO TROZOS DEL STRING EN CADA HILO')\n",
    "for rank in range(P):\n",
    "    # CALCULO DE LOS RANGOS DEL STRING PARA CADA HILO\n",
    "    startindex = rank * offset\n",
    "    if rank == P - 1:\n",
    "        endindex = len(DATA) - 1\n",
    "    else:\n",
    "        endindex = startindex + offset - 1\n",
    "        \n",
    "    # EJECUCION PARALELA DE LA FUNCION DE CODIFICACION\n",
    "    # CON CADA TROZO DEL STRING POR HILO\n",
    "    args = (startindex, endindex, rank)\n",
    "    t = threading.Thread(target=encodelzw, args=args)\n",
    "    t.start()\n",
    "    t.join()\n",
    "\n",
    "print('=' * 10, f'RESULTADO DE LA CODIFICACION: {RESULT}')\n",
    "print('~' * 10, \"TIEMPO DE EJECUCION:  %s \" % (round((time.time() - start_time),2)*1000), \" Mili-segundos\")\n",
    "\n",
    "    \n",
    "print('~' * 10, 'GUARDANDO STRING CODIFICADO')\n",
    "# MOSTRAR Y GUARDAR RESULTADO\n",
    "output = open('encoded_data.txt', 'w+')\n",
    "output_string = format_compressed_data(RESULT)\n",
    "output.write(output_string)\n",
    "output.close()\n",
    "\n",
    "\n",
    "encodedFile = os.path.getsize('encoded_data.txt')\n",
    "print('~' * 10, 'TAMAÑO DEL ARCHIVO CODIFICADO: ', encodedFile, \"Bytes\")\n",
    "\n",
    "#GUARDAR TIEMPO TXT\n",
    "size = os.path.getsize('data.txt')\n",
    "output = open('Tiempos/tiempo_pe-%s.txt' % (size), 'w+')\n",
    "output_string = str(round((time.time() - start_time),2)*1000)\n",
    "output.write(output_string)\n",
    "output.close()"
   ]
  },
  {
   "cell_type": "code",
   "execution_count": null,
   "id": "dc3973ad-8f3d-42e6-afde-ec720ebff7ac",
   "metadata": {},
   "outputs": [],
   "source": []
  }
 ],
 "metadata": {
  "colab": {
   "name": "parallel_encoding.ipynb",
   "provenance": []
  },
  "interpreter": {
   "hash": "0857670d93c27be77bbdcb7bb1533dd3650e030771f1c25bf53a486fc9e54c08"
  },
  "kernelspec": {
   "display_name": "conda-python3:Python",
   "language": "python",
   "name": "conda-env-conda-python3-py"
  },
  "language_info": {
   "codemirror_mode": {
    "name": "ipython",
    "version": 3
   },
   "file_extension": ".py",
   "mimetype": "text/x-python",
   "name": "python",
   "nbconvert_exporter": "python",
   "pygments_lexer": "ipython3",
   "version": "3.9.12"
  }
 },
 "nbformat": 4,
 "nbformat_minor": 5
}
