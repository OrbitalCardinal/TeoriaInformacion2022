{
 "cells": [
  {
   "cell_type": "code",
   "execution_count": 103,
   "id": "b49f9108-fffd-4f46-88b9-4d0b56372c5d",
   "metadata": {},
   "outputs": [],
   "source": [
    "def encodelzw(startindex, endindex, rank):\n",
    "    global DICTIONARY_SIZE\n",
    "    string = ''\n",
    "    compressed_data = []\n",
    "    data = DATA[startindex:endindex+1]\n",
    "    print('|' * 10, f'HILO {rank} -> CODIFICANDO {data}')\n",
    "    for symbol in data:\n",
    "        string_plus_symbol = string + symbol\n",
    "        if string_plus_symbol in DICTIONARY:\n",
    "            string = string_plus_symbol\n",
    "        else:\n",
    "            compressed_data.append(DICTIONARY[string])\n",
    "            if len(DICTIONARY) <= MAXIMUM_SIZE:\n",
    "                DICTIONARY[string_plus_symbol] = DICTIONARY_SIZE\n",
    "                DICTIONARY_SIZE += 1\n",
    "            string = symbol\n",
    "    if string in DICTIONARY:\n",
    "        compressed_data.append(DICTIONARY[string])\n",
    "    print('|' * 10, f'RESULTADO DE HILO {rank} -> {compressed_data}')\n",
    "    RESULT[rank] = compressed_data"
   ]
  },
  {
   "cell_type": "code",
   "execution_count": 104,
   "id": "0756f697-2b52-4b9e-ad18-05bbb040a286",
   "metadata": {},
   "outputs": [],
   "source": [
    "def format_compressed_data(compressed_data):\n",
    "    output_string = ''\n",
    "    for i in range(len(compressed_data)):\n",
    "        rank = compressed_data[i]\n",
    "        for j in range(len(compressed_data[i])):\n",
    "            code = rank[j]\n",
    "            if j < len(compressed_data[i]) - 1:\n",
    "                output_string += f'{code},'\n",
    "            else:\n",
    "                output_string += str(code)\n",
    "        if i < len(compressed_data) - 1:\n",
    "            output_string += '\\n'\n",
    "    return output_string"
   ]
  },
  {
   "cell_type": "code",
   "execution_count": 105,
   "id": "f32add90-766d-459b-8e4e-4d9285ddc5cc",
   "metadata": {},
   "outputs": [
    {
     "name": "stdout",
     "output_type": "stream",
     "text": [
      "~~~~~~~~~~ INICIALIZANDO DICCIONARIO CON 256 CARACTERES ASCII\n",
      "~~~~~~~~~~ CODIFICANDO TROZOS DEL STRING EN CADA HILO\n",
      "|||||||||| HILO 0 -> CODIFICANDO th\n",
      "|||||||||| RESULTADO DE HILO 0 -> [116, 104]\n",
      "|||||||||| HILO 1 -> CODIFICANDO th\n",
      "|||||||||| RESULTADO DE HILO 1 -> [256]\n",
      "|||||||||| HILO 2 -> CODIFICANDO eg\n",
      "|||||||||| RESULTADO DE HILO 2 -> [101, 103]\n",
      "|||||||||| HILO 3 -> CODIFICANDO ame\n",
      "|||||||||| RESULTADO DE HILO 3 -> [97, 109, 101]\n",
      "========== RESULTADO DE LA CODIFICACION: [[116, 104], [256], [101, 103], [97, 109, 101]]\n",
      "~~~~~~~~~~ GUARDANDO STRING CODIFICADO\n"
     ]
    }
   ],
   "source": [
    "# GLOBAL\n",
    "# LEER ARCHIVO\n",
    "file = open('data.txt', 'r')\n",
    "DATA = file.read()\n",
    "# DICCIONARIO SE INICIALIZA CON 256 CARACTERES ASCII\n",
    "print('~' * 10, 'INICIALIZANDO DICCIONARIO CON 256 CARACTERES ASCII')\n",
    "DICTIONARY_SIZE = 256 \n",
    "DICTIONARY = {chr(i): i for i in range(DICTIONARY_SIZE)}  \n",
    "# CON 9 BITS SE PUEDE TENER UN DICCIONARIO DE HASTA 512 ESPACIOS\n",
    "BITS = 9\n",
    "MAXIMUM_SIZE = pow(2,int(BITS))\n",
    "\n",
    "# PARALELIZACION\n",
    "P = 4  # NUMERO DE HILOS UTILIZADOS\n",
    "offset = len(DATA) // P  # CARACTER EXTRA\n",
    "RESULT = [[] for p in range(P)]  # LISTA DE RESULTADOS DE CADA HILO (BIDIMENSIONAL)\n",
    "\n",
    "print('~' * 10, 'CODIFICANDO TROZOS DEL STRING EN CADA HILO')\n",
    "for rank in range(P):\n",
    "    # CALCULO DE LOS RANGOS DEL STRING PARA CADA HILO\n",
    "    startindex = rank * offset\n",
    "    if rank == P - 1:\n",
    "        endindex = len(DATA) - 1\n",
    "    else:\n",
    "        endindex = startindex + offset - 1\n",
    "        \n",
    "    # EJECUCION PARALELA DE LA FUNCION DE CODIFICACION\n",
    "    # CON CADA TROZO DEL STRING POR HILO\n",
    "    args = (startindex, endindex, rank)\n",
    "    t = threading.Thread(target=encodelzw, args=args)\n",
    "    t.start()\n",
    "    t.join()\n",
    "\n",
    "print('=' * 10, f'RESULTADO DE LA CODIFICACION: {RESULT}')\n",
    "    \n",
    "print('~' * 10, 'GUARDANDO STRING CODIFICADO')\n",
    "# MOSTRAR Y GUARDAR RESULTADO\n",
    "output = open('encoded_data.txt', 'w+')\n",
    "output_string = format_compressed_data(RESULT)\n",
    "output.write(output_string)\n",
    "output.close()"
   ]
  }
 ],
 "metadata": {
  "kernelspec": {
   "display_name": "conda-python3:Python",
   "language": "python",
   "name": "conda-env-conda-python3-py"
  },
  "language_info": {
   "codemirror_mode": {
    "name": "ipython",
    "version": 3
   },
   "file_extension": ".py",
   "mimetype": "text/x-python",
   "name": "python",
   "nbconvert_exporter": "python",
   "pygments_lexer": "ipython3",
   "version": "3.9.12"
  }
 },
 "nbformat": 4,
 "nbformat_minor": 5
}
