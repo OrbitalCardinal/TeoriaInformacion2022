{
  "nbformat": 4,
  "nbformat_minor": 0,
  "metadata": {
    "colab": {
      "name": "sequential_decoder.ipynb",
      "provenance": [],
      "collapsed_sections": []
    },
    "kernelspec": {
      "name": "python3",
      "display_name": "Python 3"
    },
    "language_info": {
      "name": "python"
    }
  },
  "cells": [
    {
      "cell_type": "code",
      "execution_count": 56,
      "metadata": {
        "id": "OYFpj_CchV4x"
      },
      "outputs": [],
      "source": [
        "import threading"
      ]
    },
    {
      "cell_type": "code",
      "source": [
        "def decodelzw(compressed_data):\n",
        "    global NEXT_CODE\n",
        "    decompressed_data = []\n",
        "    string = ''\n",
        "    print('|' * 10, f'DECODIFICANDO STRING SECUENCIAL -> {compressed_data}')\n",
        "    for code in compressed_data:\n",
        "        if code not in DICTIONARY:\n",
        "            DICTIONARY[code] = string + (string[0])\n",
        "        decompressed_data += DICTIONARY[code]\n",
        "        if not(len(string) == 0):\n",
        "            DICTIONARY[NEXT_CODE] = string + (DICTIONARY[code][0])\n",
        "            NEXT_CODE += 1\n",
        "        string = DICTIONARY[code]\n",
        "    return decompressed_data"
      ],
      "metadata": {
        "id": "Xbk-PUDWLDEm"
      },
      "execution_count": 57,
      "outputs": []
    },
    {
      "cell_type": "code",
      "source": [
        "def open_compressed_data(file):\n",
        "    file = open(file, 'r')\n",
        "    compressed_data = file.read()\n",
        "    parsed_compressed_data = parse_compressed_data(compressed_data)\n",
        "    return parsed_compressed_data"
      ],
      "metadata": {
        "id": "T8uhJeBjLHk0"
      },
      "execution_count": 58,
      "outputs": []
    },
    {
      "cell_type": "code",
      "source": [
        "def parse_compressed_data(compressed_data):\n",
        "    print(compressed_data)\n",
        "    compressed_data = [i.split(',') for i in compressed_data.split('\\n')]\n",
        "    for i in range(len(compressed_data)):\n",
        "        for j in range(len(compressed_data[i])):\n",
        "            print(compressed_data[i][j] )\n",
        "            compressed_data[i][j] = int(compressed_data[i][j])\n",
        "    return compressed_data[0]"
      ],
      "metadata": {
        "id": "z1820fYhLJTU"
      },
      "execution_count": 59,
      "outputs": []
    },
    {
      "cell_type": "code",
      "source": [
        "def format_decompressed_data(compressed_data):\n",
        "    output_string = ''\n",
        "    for j in range(len(compressed_data)):\n",
        "        if j < len(compressed_data) - 1:\n",
        "            output_string += f\"{compressed_data[j]}\"\n",
        "        else:\n",
        "            output_string += str(compressed_data[j])\n",
        "    return output_string"
      ],
      "metadata": {
        "id": "UnHgkWemiJ0j"
      },
      "execution_count": 60,
      "outputs": []
    },
    {
      "cell_type": "code",
      "source": [
        "# Decodificacion secuencial\n",
        "BITS = 17\n",
        "DICTIONARY_SIZE = pow(2,int(BITS-1))\n",
        "MAXIMUM_SIZE = pow(2,int(BITS)) \n",
        "NEXT_CODE = DICTIONARY_SIZE\n",
        "\n",
        "print('~' * 10, 'ABRIENDO ARCHIVO DE CODIFICACION')\n",
        "RESULT = open_compressed_data('encoded_data.txt')\n",
        "print(\"re\",RESULT)\n",
        "print('~' * 10, f'INICIALIZANDO DICCIONARIO CON {DICTIONARY_SIZE} CARACTERES')\n",
        "DICTIONARY = dict([(x, chr(x)) for x in range(DICTIONARY_SIZE)])\n",
        "\n",
        "DECODE_RESULT = list()\n",
        "DECODE_RESULT = decodelzw(RESULT)\n",
        "\n",
        "print('~' * 10, 'UNIFICANDO RESULTADOS DECODIFICADOS')\n",
        "print('~' * 10, f'RESULTADO FINAL DE DECODIFICACION => {DECODE_RESULT}')\n",
        "print('~' * 10, 'GUARDANDO DE CODIFICACION')\n",
        "output_file = open('decoded_data.txt', 'w+')\n",
        "decoded = format_decompressed_data(DECODE_RESULT)\n",
        "output_file.write(decoded)\n",
        "output_file.close()"
      ],
      "metadata": {
        "colab": {
          "base_uri": "https://localhost:8080/"
        },
        "id": "K8uKfhkFLLF6",
        "outputId": "34484732-9ba0-41b7-fa39-e7b46a3f8e1c"
      },
      "execution_count": 61,
      "outputs": [
        {
          "output_type": "stream",
          "name": "stdout",
          "text": [
            "~~~~~~~~~~ ABRIENDO ARCHIVO DE CODIFICACION\n",
            "12459, 12479, 12459, 12490, 111, 65540, 65540, 241, 65543, 65543, 107, 111, 65546, 65546, 46, 65550\n",
            "12459\n",
            " 12479\n",
            " 12459\n",
            " 12490\n",
            " 111\n",
            " 65540\n",
            " 65540\n",
            " 241\n",
            " 65543\n",
            " 65543\n",
            " 107\n",
            " 111\n",
            " 65546\n",
            " 65546\n",
            " 46\n",
            " 65550\n",
            "re [12459, 12479, 12459, 12490, 111, 65540, 65540, 241, 65543, 65543, 107, 111, 65546, 65546, 46, 65550]\n",
            "~~~~~~~~~~ INICIALIZANDO DICCIONARIO CON 65536 CARACTERES\n",
            "|||||||||| DECODIFICANDO STRING SECUENCIAL -> [12459, 12479, 12459, 12490, 111, 65540, 65540, 241, 65543, 65543, 107, 111, 65546, 65546, 46, 65550]\n",
            "~~~~~~~~~~ UNIFICANDO RESULTADOS DECODIFICADOS\n",
            "~~~~~~~~~~ RESULTADO FINAL DE DECODIFICACION => ['カ', 'タ', 'カ', 'ナ', 'o', 'o', 'o', 'o', 'o', 'ñ', 'ñ', 'ñ', 'ñ', 'ñ', 'k', 'o', 'k', 'o', 'k', 'o', '.', '.', '.']\n",
            "~~~~~~~~~~ GUARDANDO DE CODIFICACION\n"
          ]
        }
      ]
    }
  ]
}