{
  "cells": [
    {
      "cell_type": "code",
      "execution_count": 8,
      "id": "9f6ca3a2-c243-4910-bab9-5e671c7713e7",
      "metadata": {
        "id": "9f6ca3a2-c243-4910-bab9-5e671c7713e7"
      },
      "outputs": [],
      "source": [
        "import threading\n",
        "import time\n",
        "import os"
      ]
    },
    {
      "cell_type": "code",
      "source": [
        "start_time = time.time()"
      ],
      "metadata": {
        "id": "rl_AmbhJVp1J"
      },
      "id": "rl_AmbhJVp1J",
      "execution_count": 9,
      "outputs": []
    },
    {
      "cell_type": "code",
      "execution_count": 10,
      "id": "0cd9b6b6-0d50-410f-90c9-a0198155295c",
      "metadata": {
        "id": "0cd9b6b6-0d50-410f-90c9-a0198155295c"
      },
      "outputs": [],
      "source": [
        "def decodelzw(compressed_data, rank):\n",
        "    global NEXT_CODE\n",
        "    decompressed_data = []\n",
        "    string = ''\n",
        "    print('|' * 10, f'HILO {rank} DECODIFICANDO -> {compressed_data}')\n",
        "    for code in compressed_data:\n",
        "        if code not in DICTIONARY:\n",
        "            DICTIONARY[code] = string + (string[0])\n",
        "        decompressed_data += DICTIONARY[code]\n",
        "        if not(len(string) == 0):\n",
        "            DICTIONARY[NEXT_CODE] = string + (DICTIONARY[code][0])\n",
        "            NEXT_CODE += 1\n",
        "        string = DICTIONARY[code]\n",
        "    print('=' * 10, f'RESULTADO HILO {rank}  -> {decompressed_data}')\n",
        "    DECODE_RESULT[rank] = decompressed_data"
      ]
    },
    {
      "cell_type": "code",
      "execution_count": 12,
      "id": "be9506c0-0028-4df7-80fc-878638fc738a",
      "metadata": {
        "id": "be9506c0-0028-4df7-80fc-878638fc738a"
      },
      "outputs": [],
      "source": [
        "def parse_compressed_data(compressed_data):\n",
        "    compressed_data = [i.split(',') for i in compressed_data.split('\\n')]\n",
        "    for i in range(len(compressed_data)):\n",
        "        for j in range(len(compressed_data[i])):\n",
        "            compressed_data[i][j] = int(compressed_data[i][j])\n",
        "    return compressed_data"
      ]
    },
    {
      "cell_type": "code",
      "execution_count": 13,
      "id": "b0e50bef-edf5-4e93-b2c8-2403a81afb2a",
      "metadata": {
        "id": "b0e50bef-edf5-4e93-b2c8-2403a81afb2a"
      },
      "outputs": [],
      "source": [
        "def open_compressed_data(file):\n",
        "    file = open(file, 'r')\n",
        "    compressed_data = file.read()\n",
        "    parsed_compressed_data = parse_compressed_data(compressed_data)\n",
        "    return parsed_compressed_data"
      ]
    },
    {
      "cell_type": "code",
      "execution_count": 14,
      "id": "72bf407d-8833-4adc-bb93-a840962adaf9",
      "metadata": {
        "colab": {
          "base_uri": "https://localhost:8080/"
        },
        "id": "72bf407d-8833-4adc-bb93-a840962adaf9",
        "outputId": "297f7448-3c32-4e14-9ebd-ec667d1cb4a1"
      },
      "outputs": [
        {
          "output_type": "stream",
          "name": "stdout",
          "text": [
            "~~~~~~~~~~ ABRIENDO ARCHIVO DE CODIFICACION\n",
            "~~~~~~~~~~ INICIALIZANDO DICCIONARIO CON 256 CARACTERES ASCII\n",
            "~~~~~~~~~~ UTILIZANDO 4 HILOS\n",
            "|||||||||| HILO 0 DECODIFICANDO -> [116, 104]\n",
            "========== RESULTADO HILO 0  -> ['t', 'h']\n",
            "|||||||||| HILO 1 DECODIFICANDO -> [256]\n",
            "========== RESULTADO HILO 1  -> ['t', 'h']\n",
            "|||||||||| HILO 2 DECODIFICANDO -> [101, 103]\n",
            "========== RESULTADO HILO 2  -> ['e', 'g']\n",
            "|||||||||| HILO 3 DECODIFICANDO -> [97, 109, 101]\n",
            "========== RESULTADO HILO 3  -> ['a', 'm', 'e']\n",
            "~~~~~~~~~~ UNIFICANDO RESULTADOS DECODIFICADOS\n",
            "~~~~~~~~~~ RESULTADO FINAL DE DECODIFICACION => ththegame\n",
            "~~~~~~~~~~ TIEMPO DE EJECUCION:  18730.0   Mili-segundos\n",
            "~~~~~~~~~~ GUARDANDO DE CODIFICACION\n",
            "~~~~~~~~~~ TAMAÑO DEL ARCHIVO CODIFICADO:  33 BYTES\n"
          ]
        }
      ],
      "source": [
        "# Paralelizar decodificacion\n",
        "BITS = 17\n",
        "\n",
        "print('~' * 10, 'ABRIENDO ARCHIVO DE CODIFICACION')\n",
        "RESULT = open_compressed_data('encoded_data.txt')\n",
        "print('~' * 10, 'INICIALIZANDO DICCIONARIO CON 256 CARACTERES ASCII')\n",
        "DICTIONARY_SIZE = pow(2,int(BITS-1))\n",
        "DICTIONARY = dict([(x, chr(x)) for x in range(DICTIONARY_SIZE)])\n",
        "\n",
        "MAXIMUM_SIZE = pow(2,int(BITS)) \n",
        "NEXT_CODE = 256\n",
        "\n",
        "P = 4\n",
        "DECODE_RESULT = [[] for p in range(P)]\n",
        "print('~' * 10, f'UTILIZANDO {P} HILOS')\n",
        "\n",
        "for rank in range(P):\n",
        "    # Ejecutar en paralelo\n",
        "    args = (RESULT[rank], rank)\n",
        "    t = threading.Thread(target=decodelzw, args=args)\n",
        "    t.start()\n",
        "    t.join()\n",
        "\n",
        "print('~' * 10, 'UNIFICANDO RESULTADOS DECODIFICADOS')\n",
        "DECODE_RESULT = ''.join(sum(DECODE_RESULT, []))\n",
        "print('~' * 10, f'RESULTADO FINAL DE DECODIFICACION => {DECODE_RESULT}')\n",
        "print('~' * 10, \"TIEMPO DE EJECUCION:  %s \" % (round((time.time() - start_time),2)*1000), \" Mili-segundos\")\n",
        "\n",
        "print('~' * 10, 'GUARDANDO DE CODIFICACION')\n",
        "output_file = open('decoded_data.txt', 'w+')\n",
        "output_file.write(DECODE_RESULT)\n",
        "output_file.close()\n",
        "\n",
        "encodedFile = os.path.getsize('encoded_data.txt')\n",
        "print('~' * 10, 'TAMAÑO DEL ARCHIVO CODIFICADO: ', encodedFile, \"BYTES\")"
      ]
    }
  ],
  "metadata": {
    "kernelspec": {
      "display_name": "conda-python3:Python",
      "language": "python",
      "name": "conda-env-conda-python3-py"
    },
    "language_info": {
      "codemirror_mode": {
        "name": "ipython",
        "version": 3
      },
      "file_extension": ".py",
      "mimetype": "text/x-python",
      "name": "python",
      "nbconvert_exporter": "python",
      "pygments_lexer": "ipython3",
      "version": "3.9.12"
    },
    "colab": {
      "name": "parallel_decoding.ipynb",
      "provenance": []
    }
  },
  "nbformat": 4,
  "nbformat_minor": 5
}