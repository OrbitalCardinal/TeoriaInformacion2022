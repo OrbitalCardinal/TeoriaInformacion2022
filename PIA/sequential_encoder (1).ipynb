{
 "cells": [
  {
   "cell_type": "code",
   "execution_count": 1,
   "metadata": {
    "id": "i_RqeqZ26OxC"
   },
   "outputs": [],
   "source": [
    "import threading\n",
    "import time\n",
    "import os"
   ]
  },
  {
   "cell_type": "code",
   "execution_count": 2,
   "metadata": {
    "id": "gAZtvGAynd21"
   },
   "outputs": [],
   "source": [
    "def encodelzw(startindex, endindex, rank):\n",
    "    global DICTIONARY_SIZE\n",
    "    string = ''\n",
    "    compressed_data = []\n",
    "    DATA\n",
    "    print('|' * 10, f'MODULO SECUENCIAL -> CODIFICANDO {DATA}')\n",
    "    for symbol in DATA:\n",
    "        string_plus_symbol = string + symbol\n",
    "        if string_plus_symbol in DICTIONARY:\n",
    "            string = string_plus_symbol\n",
    "        else:\n",
    "            compressed_data.append(DICTIONARY[string])\n",
    "            if len(DICTIONARY) <= MAXIMUM_SIZE:\n",
    "                DICTIONARY[string_plus_symbol] = DICTIONARY_SIZE\n",
    "                DICTIONARY_SIZE += 1\n",
    "            string = symbol\n",
    "    if string in DICTIONARY:\n",
    "        compressed_data.append(DICTIONARY[string])\n",
    "    RESULT = compressed_data\n",
    "    return RESULT"
   ]
  },
  {
   "cell_type": "code",
   "execution_count": 3,
   "metadata": {
    "id": "fORYUMcNnl2-"
   },
   "outputs": [],
   "source": [
    "def format_compressed_data(compressed_data):\n",
    "    output_string = ''\n",
    "    for j in range(len(compressed_data)):\n",
    "        if j < len(compressed_data) - 1:\n",
    "            output_string += f\"{compressed_data[j]}, \"\n",
    "        else:\n",
    "            output_string += str(compressed_data[j])\n",
    "    return output_string"
   ]
  },
  {
   "cell_type": "code",
   "execution_count": 4,
   "metadata": {
    "id": "aded8MPaieNa"
   },
   "outputs": [],
   "source": [
    "def format_bin_compressed_data(compressed_data):\n",
    "    output_string = ''\n",
    "    for j in range(len(compressed_data)):\n",
    "        if j < len(compressed_data) - 1:\n",
    "            output_string += str(compressed_data[j])\n",
    "        else:\n",
    "            output_string += str(compressed_data[j])\n",
    "    return output_string"
   ]
  },
  {
   "cell_type": "code",
   "execution_count": 6,
   "metadata": {
    "id": "Av_52fOsns7d"
   },
   "outputs": [
    {
     "name": "stdout",
     "output_type": "stream",
     "text": [
      "~~~~~~~~~~ INICIALIZANDO DICCIONARIO CON 256 CARACTERES ASCII\n",
      "|||||||||| MODULO SECUENCIAL -> CODIFICANDO ththegameinthemiddleofthenight\n",
      "========== RESULTADO DE LA CODIFICACION: [116, 104, 256, 101, 103, 97, 109, 101, 105, 110, 258, 109, 105, 100, 100, 108, 101, 111, 102, 258, 110, 105, 103, 257]\n",
      "~~~~~~~~~~ TIEMPO DE EJECUCION:  0.0   Mili-segundos\n",
      "~~~~~~~~~~ GUARDANDO STRING CODIFICADO\n",
      "~~~~~~~~~~ TAMAÑO DEL ARCHIVO CODIFICADO:  71\n",
      "~~~~~~~~~~ TAMAÑO DEL ARCHIVO DE-CODIFICADO:  30\n"
     ]
    }
   ],
   "source": [
    "start_time = time.time()\n",
    "\n",
    "BITS = 9\n",
    "\n",
    "# GLOBAL\n",
    "# LEER ARCHIVO\n",
    "file = open('data.txt', 'r')\n",
    "DATA = file.read()\n",
    "\n",
    "# DICCIONARIO SE INICIALIZA CON 256 CARACTERES ASCII O UTC2\n",
    "DICTIONARY_SIZE = pow(2,int(BITS-1))\n",
    "print('~' * 10, f'INICIALIZANDO DICCIONARIO CON {DICTIONARY_SIZE} CARACTERES ASCII')\n",
    "#DICTIONARY_SIZE = 65536\n",
    "\n",
    "DICTIONARY = {chr(i): i for i in range(DICTIONARY_SIZE)}  \n",
    "# CON 9 BITS SE PUEDE TENER UN DICCIONARIO DE HASTA 512 ESPACIOS\n",
    "\n",
    "MAXIMUM_SIZE = pow(2,int(BITS))\n",
    "\n",
    "\n",
    "RESULT = encodelzw(1, len(DATA), 0)\n",
    "\n",
    "\n",
    "print('=' * 10, f'RESULTADO DE LA CODIFICACION: {RESULT}')\n",
    "print('~' * 10, \"TIEMPO DE EJECUCION:  %s \" % (round((time.time() - start_time),2)*1000), \" Mili-segundos\")\n",
    "\n",
    "\n",
    "    \n",
    "print('~' * 10, 'GUARDANDO STRING CODIFICADO')\n",
    "# MOSTRAR Y GUARDAR RESULTADO\n",
    "output = open('encoded_data.txt', 'w+')\n",
    "output_string = format_compressed_data(RESULT)\n",
    "output.write(output_string)\n",
    "output.close()\n",
    "\n",
    "output = open('encoded_data.bin', 'w+')\n",
    "output_string = format_bin_compressed_data(RESULT)\n",
    "output.write(output_string)\n",
    "output.close()\n",
    "\n",
    "decodedFile = os.path.getsize('decoded_data.txt')\n",
    "encodedFile = os.path.getsize('encoded_data.bin')\n",
    "\n",
    "print('~' * 10, 'TAMAÑO DEL ARCHIVO CODIFICADO: ', encodedFile)\n",
    "print('~' * 10, 'TAMAÑO DEL ARCHIVO DE-CODIFICADO: ', decodedFile)\n",
    "\n",
    "#GUARDAR TIEMPO TXT\n",
    "size = os.path.getsize('data.txt')\n",
    "output = open('Tiempos/tiempo_se-%s.txt' % (size), 'w+')\n",
    "output_string = str(round((time.time() - start_time),2)*1000)\n",
    "output.write(output_string)\n",
    "output.close()"
   ]
  }
 ],
 "metadata": {
  "colab": {
   "collapsed_sections": [],
   "name": "sequential_encoder.ipynb",
   "provenance": []
  },
  "interpreter": {
   "hash": "0857670d93c27be77bbdcb7bb1533dd3650e030771f1c25bf53a486fc9e54c08"
  },
  "kernelspec": {
   "display_name": "conda-python3:Python",
   "language": "python",
   "name": "conda-env-conda-python3-py"
  },
  "language_info": {
   "codemirror_mode": {
    "name": "ipython",
    "version": 3
   },
   "file_extension": ".py",
   "mimetype": "text/x-python",
   "name": "python",
   "nbconvert_exporter": "python",
   "pygments_lexer": "ipython3",
   "version": "3.9.12"
  }
 },
 "nbformat": 4,
 "nbformat_minor": 4
}
