{
  "nbformat": 4,
  "nbformat_minor": 0,
  "metadata": {
    "colab": {
      "name": "sequential_encoder.ipynb",
      "provenance": [],
      "collapsed_sections": []
    },
    "kernelspec": {
      "name": "python3",
      "display_name": "Python 3"
    },
    "language_info": {
      "name": "python"
    }
  },
  "cells": [
    {
      "cell_type": "code",
      "source": [
        "import threading\n",
        "import time\n",
        "import os"
      ],
      "metadata": {
        "id": "i_RqeqZ26OxC"
      },
      "execution_count": 23,
      "outputs": []
    },
    {
      "cell_type": "code",
      "source": [
        "start_time = time.time()"
      ],
      "metadata": {
        "id": "cT8uG-GShUtU"
      },
      "execution_count": 24,
      "outputs": []
    },
    {
      "cell_type": "code",
      "execution_count": 25,
      "metadata": {
        "id": "gAZtvGAynd21"
      },
      "outputs": [],
      "source": [
        "def encodelzw(startindex, endindex, rank):\n",
        "    global DICTIONARY_SIZE\n",
        "    string = ''\n",
        "    compressed_data = []\n",
        "    DATA\n",
        "    print('|' * 10, f'MODULO SECUENCIAL -> CODIFICANDO {DATA}')\n",
        "    for symbol in DATA:\n",
        "        string_plus_symbol = string + symbol\n",
        "        if string_plus_symbol in DICTIONARY:\n",
        "            string = string_plus_symbol\n",
        "        else:\n",
        "            compressed_data.append(DICTIONARY[string])\n",
        "            if len(DICTIONARY) <= MAXIMUM_SIZE:\n",
        "                DICTIONARY[string_plus_symbol] = DICTIONARY_SIZE\n",
        "                DICTIONARY_SIZE += 1\n",
        "            string = symbol\n",
        "    if string in DICTIONARY:\n",
        "        compressed_data.append(DICTIONARY[string])\n",
        "    RESULT = compressed_data\n",
        "    return RESULT"
      ]
    },
    {
      "cell_type": "code",
      "source": [
        "def format_compressed_data(compressed_data):\n",
        "    output_string = ''\n",
        "    for j in range(len(compressed_data)):\n",
        "        if j < len(compressed_data) - 1:\n",
        "            output_string += f\"{compressed_data[j]}, \"\n",
        "        else:\n",
        "            output_string += str(compressed_data[j])\n",
        "    return output_string"
      ],
      "metadata": {
        "id": "fORYUMcNnl2-"
      },
      "execution_count": 26,
      "outputs": []
    },
    {
      "cell_type": "code",
      "source": [
        "def format_bin_compressed_data(compressed_data):\n",
        "    output_string = ''\n",
        "    for j in range(len(compressed_data)):\n",
        "        if j < len(compressed_data) - 1:\n",
        "            output_string += str(compressed_data[j])\n",
        "        else:\n",
        "            output_string += str(compressed_data[j])\n",
        "    return output_string"
      ],
      "metadata": {
        "id": "aded8MPaieNa"
      },
      "execution_count": 37,
      "outputs": []
    },
    {
      "cell_type": "code",
      "source": [
        "BITS = 9\n",
        "\n",
        "# GLOBAL\n",
        "# LEER ARCHIVO\n",
        "file = open('decoded_data.txt', 'r')\n",
        "DATA = file.read()\n",
        "\n",
        "# DICCIONARIO SE INICIALIZA CON 256 CARACTERES ASCII O UTC2\n",
        "DICTIONARY_SIZE = pow(2,int(BITS-1))\n",
        "print('~' * 10, f'INICIALIZANDO DICCIONARIO CON {DICTIONARY_SIZE} CARACTERES ASCII')\n",
        "#DICTIONARY_SIZE = 65536\n",
        "\n",
        "DICTIONARY = {chr(i): i for i in range(DICTIONARY_SIZE)}  \n",
        "# CON 9 BITS SE PUEDE TENER UN DICCIONARIO DE HASTA 512 ESPACIOS\n",
        "\n",
        "MAXIMUM_SIZE = pow(2,int(BITS))\n",
        "\n",
        "\n",
        "RESULT = encodelzw(1, len(DATA), 0)\n",
        "\n",
        "\n",
        "print('=' * 10, f'RESULTADO DE LA CODIFICACION: {RESULT}')\n",
        "print('~' * 10, \"TIEMPO DE EJECUCION:  %s \" % (round((time.time() - start_time),2)*1000), \" Mili-segundos\")\n",
        "\n",
        "\n",
        "    \n",
        "print('~' * 10, 'GUARDANDO STRING CODIFICADO')\n",
        "# MOSTRAR Y GUARDAR RESULTADO\n",
        "output = open('encoded_data.txt', 'w+')\n",
        "output_string = format_compressed_data(RESULT)\n",
        "output.write(output_string)\n",
        "output.close()\n",
        "\n",
        "output = open('encoded_data.bin', 'w+')\n",
        "output_string = format_bin_compressed_data(RESULT)\n",
        "output.write(output_string)\n",
        "output.close()\n",
        "\n",
        "decodedFile = os.path.getsize('decoded_data.txt')\n",
        "encodedFile = os.path.getsize('encoded_data.bin')\n",
        "\n",
        "print('~' * 10, 'TAMAÑO DEL ARCHIVO CODIFICADO: ', encodedFile)\n",
        "print('~' * 10, 'TAMAÑO DEL ARCHIVO DE-CODIFICADO: ', decodedFile)\n"
      ],
      "metadata": {
        "id": "Av_52fOsns7d"
      },
      "execution_count": null,
      "outputs": []
    }
  ]
}