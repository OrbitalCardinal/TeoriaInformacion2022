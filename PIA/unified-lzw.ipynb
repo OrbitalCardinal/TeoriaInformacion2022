{
 "cells": [
  {
   "cell_type": "code",
   "execution_count": 1,
   "id": "d1e15ab9-be1f-4c40-b714-234a8b07620e",
   "metadata": {},
   "outputs": [
    {
     "name": "stdout",
     "output_type": "stream",
     "text": [
      "1. Codificación secuencial de Lempel-Ziv-Welch\n",
      "2. Decodificación secuencial de Lempel-Ziv-Welch\n",
      "3. Codificación paralela de Lempel-Ziv-Welch\n",
      "4. Decodificación paralela de Lempel-Ziv-Welch\n"
     ]
    },
    {
     "name": "stdin",
     "output_type": "stream",
     "text": [
      "Seleccione el algoritmo a ejecutar:  1\n"
     ]
    },
    {
     "name": "stdout",
     "output_type": "stream",
     "text": [
      "\n",
      "~~~~~~~~~~ INICIALIZANDO DICCIONARIO CON 256 CARACTERES ASCII\n",
      "|||||||||| MODULO SECUENCIAL -> CODIFICANDO ththegameinthemiddleofthenight\n",
      "========== RESULTADO DE LA CODIFICACION: [116, 104, 256, 101, 103, 97, 109, 101, 105, 110, 258, 109, 105, 100, 100, 108, 101, 111, 102, 258, 110, 105, 103, 257]\n",
      "~~~~~~~~~~ TIEMPO DE EJECUCION:  0.0   Mili-segundos\n",
      "~~~~~~~~~~ GUARDANDO STRING CODIFICADO\n",
      "~~~~~~~~~~ TAMAÑO DEL ARCHIVO CODIFICADO:  71\n",
      "~~~~~~~~~~ TAMAÑO DEL ARCHIVO DE-CODIFICADO:  30\n"
     ]
    }
   ],
   "source": [
    "print('1. Codificación secuencial de Lempel-Ziv-Welch')\n",
    "print('2. Decodificación secuencial de Lempel-Ziv-Welch')\n",
    "print('3. Codificación paralela de Lempel-Ziv-Welch')\n",
    "print('4. Decodificación paralela de Lempel-Ziv-Welch')\n",
    "op = int(input('Seleccione el algoritmo a ejecutar: '))\n",
    "print('')\n",
    "if op == 1:\n",
    "    import seq_encoder\n",
    "elif op == 2:\n",
    "    import seq_decoder\n",
    "elif op == 3:\n",
    "    import par_encoder\n",
    "elif op == 4:\n",
    "    import par_decoder\n",
    "else:\n",
    "    print('OPCION INVAlIDA INTENTE DE NUEVO')"
   ]
  }
 ],
 "metadata": {
  "kernelspec": {
   "display_name": "conda-python3:Python",
   "language": "python",
   "name": "conda-env-conda-python3-py"
  },
  "language_info": {
   "codemirror_mode": {
    "name": "ipython",
    "version": 3
   },
   "file_extension": ".py",
   "mimetype": "text/x-python",
   "name": "python",
   "nbconvert_exporter": "python",
   "pygments_lexer": "ipython3",
   "version": "3.9.12"
  }
 },
 "nbformat": 4,
 "nbformat_minor": 5
}
