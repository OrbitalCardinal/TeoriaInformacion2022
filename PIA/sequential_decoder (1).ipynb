{
  "cells": [
    {
      "cell_type": "code",
      "execution_count": 22,
      "metadata": {
        "id": "OYFpj_CchV4x"
      },
      "outputs": [],
      "source": [
        "import threading\n",
        "import time\n",
        "import os"
      ]
    },
    {
      "cell_type": "code",
      "execution_count": 23,
      "metadata": {
        "id": "wTGnvJLRU3OH"
      },
      "outputs": [],
      "source": [
        "start_time = time.time()"
      ]
    },
    {
      "cell_type": "code",
      "execution_count": 24,
      "metadata": {
        "id": "Xbk-PUDWLDEm"
      },
      "outputs": [],
      "source": [
        "def decodelzw(compressed_data):\n",
        "    global NEXT_CODE\n",
        "    decompressed_data = []\n",
        "    string = ''\n",
        "    print('|' * 10, f'DECODIFICANDO STRING SECUENCIAL -> {compressed_data}')\n",
        "    for code in compressed_data:\n",
        "        if code not in DICTIONARY:\n",
        "            DICTIONARY[code] = string + (string[0])\n",
        "        decompressed_data += DICTIONARY[code]\n",
        "        if not(len(string) == 0):\n",
        "            DICTIONARY[NEXT_CODE] = string + (DICTIONARY[code][0])\n",
        "            NEXT_CODE += 1\n",
        "        string = DICTIONARY[code]\n",
        "    return decompressed_data"
      ]
    },
    {
      "cell_type": "code",
      "execution_count": 25,
      "metadata": {
        "id": "T8uhJeBjLHk0"
      },
      "outputs": [],
      "source": [
        "def open_compressed_data(file):\n",
        "    file = open(file, 'r')\n",
        "    compressed_data = file.read()\n",
        "    parsed_compressed_data = parse_compressed_data(compressed_data)\n",
        "    return parsed_compressed_data"
      ]
    },
    {
      "cell_type": "code",
      "execution_count": 26,
      "metadata": {
        "id": "z1820fYhLJTU"
      },
      "outputs": [],
      "source": [
        "def parse_compressed_data(compressed_data):\n",
        "    compressed_data = [i.split(',') for i in compressed_data.split('\\n')]\n",
        "    for i in range(len(compressed_data)):\n",
        "        for j in range(len(compressed_data[i])):\n",
        "            compressed_data[i][j] = int(compressed_data[i][j])\n",
        "    return compressed_data[0]"
      ]
    },
    {
      "cell_type": "code",
      "execution_count": 27,
      "metadata": {
        "id": "UnHgkWemiJ0j"
      },
      "outputs": [],
      "source": [
        "def format_decompressed_data(compressed_data):\n",
        "    output_string = ''\n",
        "    for j in range(len(compressed_data)):\n",
        "        if j < len(compressed_data) - 1:\n",
        "            output_string += f\"{compressed_data[j]}\"\n",
        "        else:\n",
        "            output_string += str(compressed_data[j])\n",
        "    return output_string"
      ]
    },
    {
      "cell_type": "code",
      "execution_count": 28,
      "metadata": {
        "colab": {
          "base_uri": "https://localhost:8080/"
        },
        "id": "K8uKfhkFLLF6",
        "outputId": "c4d377bb-7856-4d5a-cdf8-e509a8608940"
      },
      "outputs": [
        {
          "name": "stdout",
          "output_type": "stream",
          "text": [
            "~~~~~~~~~~ ABRIENDO ARCHIVO DE CODIFICACION\n",
            "~~~~~~~~~~ INICIALIZANDO DICCIONARIO CON 256 CARACTERES\n",
            "|||||||||| DECODIFICANDO STRING SECUENCIAL -> [116, 104, 101, 103, 97, 109, 101]\n",
            "~~~~~~~~~~ UNIFICANDO RESULTADOS DECODIFICADOS\n",
            "~~~~~~~~~~ RESULTADO FINAL DE DECODIFICACION => ['t', 'h', 'e', 'g', 'a', 'm', 'e']\n",
            "~~~~~~~~~~ GUARDANDO DE CODIFICACION\n",
            "~~~~~~~~~~ TIEMPO DE EJECUCION:  910.0   Mili-segundos\n",
            "~~~~~~~~~~ TAMAÑO DEL ARCHIVO CODIFICADO:  32\n",
            "~~~~~~~~~~ TAMAÑO DEL ARCHIVO DE-CODIFICADO:  7\n"
          ]
        }
      ],
      "source": [
        "# Decodificacion secuencial\n",
        "BITS = 9\n",
        "DICTIONARY_SIZE = pow(2,int(BITS-1))\n",
        "MAXIMUM_SIZE = pow(2,int(BITS)) \n",
        "NEXT_CODE = DICTIONARY_SIZE\n",
        "\n",
        "print('~' * 10, 'ABRIENDO ARCHIVO DE CODIFICACION')\n",
        "RESULT = open_compressed_data('encoded_data.txt')\n",
        "print('~' * 10, f'INICIALIZANDO DICCIONARIO CON {DICTIONARY_SIZE} CARACTERES')\n",
        "DICTIONARY = dict([(x, chr(x)) for x in range(DICTIONARY_SIZE)])\n",
        "\n",
        "DECODE_RESULT = list()\n",
        "DECODE_RESULT = decodelzw(RESULT)\n",
        "\n",
        "print('~' * 10, 'UNIFICANDO RESULTADOS DECODIFICADOS')\n",
        "print('~' * 10, f'RESULTADO FINAL DE DECODIFICACION => {DECODE_RESULT}')\n",
        "print('~' * 10, 'GUARDANDO DE CODIFICACION')\n",
        "print('~' * 10, \"TIEMPO DE EJECUCION:  %s \" % (round((time.time() - start_time),2)*1000), \" Mili-segundos\")\n",
        "output_file = open('decoded_data.txt', 'w+')\n",
        "\n",
        "decoded = format_decompressed_data(DECODE_RESULT)\n",
        "output_file.write(decoded)\n",
        "output_file.close()\n",
        "\n",
        "decodedFile = os.path.getsize('decoded_data.txt')\n",
        "encodedFile = os.path.getsize('encoded_data.txt')\n",
        "\n",
        "print('~' * 10, 'TAMAÑO DEL ARCHIVO CODIFICADO: ', encodedFile)\n",
        "print('~' * 10, 'TAMAÑO DEL ARCHIVO DE-CODIFICADO: ', decodedFile)\n",
        "\n",
        "#GUARDAR TIEMPO TXT\n",
        "size = os.path.getsize('data.txt')\n",
        "output = open('Tiempos/tiempo_sd-%s.txt' % (size), 'w+')\n",
        "output_string = str(round((time.time() - start_time),2)*1000)\n",
        "output.write(output_string)\n",
        "output.close()"
      ]
    }
  ],
  "metadata": {
    "colab": {
      "collapsed_sections": [],
      "name": "sequential_decoder.ipynb",
      "provenance": []
    },
    "interpreter": {
      "hash": "0857670d93c27be77bbdcb7bb1533dd3650e030771f1c25bf53a486fc9e54c08"
    },
    "kernelspec": {
      "display_name": "Python 3.9.5 64-bit",
      "language": "python",
      "name": "python3"
    },
    "language_info": {
      "codemirror_mode": {
        "name": "ipython",
        "version": 3
      },
      "file_extension": ".py",
      "mimetype": "text/x-python",
      "name": "python",
      "nbconvert_exporter": "python",
      "pygments_lexer": "ipython3",
      "version": "3.9.5"
    }
  },
  "nbformat": 4,
  "nbformat_minor": 0
}
